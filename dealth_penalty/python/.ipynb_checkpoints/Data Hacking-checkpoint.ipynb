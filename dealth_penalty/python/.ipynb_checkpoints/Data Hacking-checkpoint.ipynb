{
 "cells": [
  {
   "cell_type": "code",
   "execution_count": 21,
   "metadata": {},
   "outputs": [],
   "source": [
    "%matplotlib inline\n",
    "import pandas as pd\n",
    "\n",
    "import cartopy.io.shapereader as shpreader\n",
    "import cartopy.crs as ccrs\n",
    "import cartopy.feature as cfeature\n"
   ]
  },
  {
   "cell_type": "markdown",
   "metadata": {},
   "source": [
    "## load in historic county shapefiles"
   ]
  },
  {
   "cell_type": "code",
   "execution_count": 22,
   "metadata": {},
   "outputs": [],
   "source": [
    "shp=shpreader.Reader('/network/rit/lab/schiraldilab/shapefiles/us_county/')"
   ]
  },
  {
   "cell_type": "markdown",
   "metadata": {},
   "source": [
    "## load in espyOregon"
   ]
  },
  {
   "cell_type": "code",
   "execution_count": 23,
   "metadata": {},
   "outputs": [
    {
     "name": "stdout",
     "output_type": "stream",
     "text": [
      "Index(['id', 'uuid', 'icpsr_record', 'icpsr_record_id', 'index_card',\n",
      "       'index_card_id', 'index_card_files', 'big_card', 'big_card_id',\n",
      "       'big_card_files', 'reference_material', 'reference_material_id',\n",
      "       'reference_material_files', 'ocr_text', 'icpsr_id', 'name',\n",
      "       'date_crime', 'circa_date_crime', 'age', 'race', 'sex', 'crime',\n",
      "       'execution_method', 'jurisdiction', 'state', 'state_abbreviation',\n",
      "       'county_code', 'county_name', 'compensation_case', 'icpsr_state',\n",
      "       'created_at', 'updated_at', 'date_execution', 'circa_date_execution',\n",
      "       'index_card_aspace', 'big_card_aspace', 'reference_material_aspace',\n",
      "       'ocr_fixed', 'first_name', 'last_name', 'date_crime_source_icpsr',\n",
      "       'date_crime_source_index', 'date_crime_source_big',\n",
      "       'date_crime_source_ref', 'date_execution_source_icpsr',\n",
      "       'date_execution_source_index', 'date_execution_source_big',\n",
      "       'date_execution_source_ref', 'age_source_icpsr', 'age_source_index',\n",
      "       'age_source_big', 'age_source_ref', 'race_source_icpsr',\n",
      "       'race_source_index', 'race_source_big', 'race_source_ref',\n",
      "       'sex_source_icpsr', 'sex_source_index', 'sex_source_big',\n",
      "       'sex_source_ref', 'crime_source_icpsr', 'crime_source_index',\n",
      "       'crime_source_big', 'crime_source_ref', 'execution_method_source_icpsr',\n",
      "       'execution_method_source_index', 'execution_method_source_big',\n",
      "       'execution_method_source_ref', 'county_source_icpsr',\n",
      "       'county_source_index', 'county_source_big', 'county_source_ref',\n",
      "       'big_ocr', 'big_ocr_check', 'record_type', 'note', 'name_source_icpsr',\n",
      "       'name_source_index', 'name_source_big', 'name_source_ref',\n",
      "       'jurisdiction_source_icpsr', 'jurisdiction_source_index',\n",
      "       'jurisdiction_source_big', 'jurisdiction_source_ref', 'slave',\n",
      "       'comp_source_icpsr', 'comp_source_index', 'comp_source_big',\n",
      "       'comp_source_ref', 'slave_source_icpsr', 'slave_source_index',\n",
      "       'slave_source_big', 'slave_source_ref'],\n",
      "      dtype='object')\n"
     ]
    }
   ],
   "source": [
    "df=pd.read_csv('/network/rit/lab/schiraldilab/death_sentance_data/espyOregon/espyOregon.csv')\n",
    "print(df.columns)"
   ]
  },
  {
   "cell_type": "code",
   "execution_count": 24,
   "metadata": {},
   "outputs": [],
   "source": [
    "basic_stats=df.groupby('county_code').apply(lambda x: x.loc[:,'age'].describe())\n",
    "counts=df.groupby('county_code').count().loc"
   ]
  },
  {
   "cell_type": "code",
   "execution_count": 34,
   "metadata": {},
   "outputs": [
    {
     "data": {
      "text/plain": [
       "race\n",
       "Asian-Pacific Islander     3\n",
       "Black                      4\n",
       "Native American            6\n",
       "Unknown                    3\n",
       "White                     59\n",
       "Name: date_execution, dtype: int64"
      ]
     },
     "execution_count": 34,
     "metadata": {},
     "output_type": "execute_result"
    }
   ],
   "source": [
    "counts=df.groupby('county_code').count()\n",
    "race=df.groupby('race').count().loc[:,'date_execution']"
   ]
  },
  {
   "cell_type": "markdown",
   "metadata": {},
   "source": [
    "## plot the median age by county"
   ]
  },
  {
   "cell_type": "code",
   "execution_count": 25,
   "metadata": {},
   "outputs": [],
   "source": [
    "counties=dict()\n",
    "for r in shp.records():\n",
    "    if int(r.attributes['GEOID']) in basic_stats.index.tolist():        \n",
    "        counties[r.attributes['GEOID']]=dict(name=r.attributes['NAME'],geom=r.geometry)"
   ]
  },
  {
   "cell_type": "code",
   "execution_count": 26,
   "metadata": {},
   "outputs": [
    {
     "data": {
      "text/plain": [
       "county_code\n",
       "41001          NaN\n",
       "41003          NaN\n",
       "41005    26.000000\n",
       "41007    55.000000\n",
       "41011    52.000000\n",
       "41015    20.000000\n",
       "41019          NaN\n",
       "41023          NaN\n",
       "41025    27.000000\n",
       "41029    25.000000\n",
       "41033          NaN\n",
       "41035          NaN\n",
       "41037    48.000000\n",
       "41039    31.000000\n",
       "41043    24.000000\n",
       "41045    44.000000\n",
       "41047    24.000000\n",
       "41051    30.615385\n",
       "41053    34.200000\n",
       "41059    30.000000\n",
       "41065          NaN\n",
       "41067    28.000000\n",
       "41069          NaN\n",
       "41071    27.000000\n",
       "Name: mean, dtype: float64"
      ]
     },
     "execution_count": 26,
     "metadata": {},
     "output_type": "execute_result"
    }
   ],
   "source": [
    "basic_stats.loc[:,'mean']"
   ]
  },
  {
   "cell_type": "code",
   "execution_count": 30,
   "metadata": {},
   "outputs": [
    {
     "data": {
      "text/plain": [
       "county_code\n",
       "41001     1\n",
       "41003     3\n",
       "41005     3\n",
       "41007     2\n",
       "41011     5\n",
       "41015     1\n",
       "41019     1\n",
       "41023     1\n",
       "41025     1\n",
       "41029     1\n",
       "41033     1\n",
       "41035     4\n",
       "41037     1\n",
       "41039     3\n",
       "41043     1\n",
       "41045     3\n",
       "41047     6\n",
       "41051    23\n",
       "41053     5\n",
       "41059     4\n",
       "41065     1\n",
       "41067     1\n",
       "41069     1\n",
       "41071     2\n",
       "Name: date_execution, dtype: int64"
      ]
     },
     "execution_count": 30,
     "metadata": {},
     "output_type": "execute_result"
    }
   ],
   "source": [
    "counts.loc[:,'date_execution']"
   ]
  },
  {
   "cell_type": "code",
   "execution_count": 28,
   "metadata": {},
   "outputs": [
    {
     "data": {
      "text/plain": [
       "{'41005': {'name': 'Clackamas',\n",
       "  'geom': <shapely.geometry.polygon.Polygon at 0x14a2394ae9b0>},\n",
       " '41007': {'name': 'Clatsop',\n",
       "  'geom': <shapely.geometry.polygon.Polygon at 0x14a239b5bc50>},\n",
       " '41035': {'name': 'Klamath',\n",
       "  'geom': <shapely.geometry.polygon.Polygon at 0x14a2394c7c50>},\n",
       " '41029': {'name': 'Jackson',\n",
       "  'geom': <shapely.geometry.polygon.Polygon at 0x14a23a1473c8>},\n",
       " '41051': {'name': 'Multnomah',\n",
       "  'geom': <shapely.geometry.polygon.Polygon at 0x14a2399a9da0>},\n",
       " '41001': {'name': 'Baker',\n",
       "  'geom': <shapely.geometry.polygon.Polygon at 0x14a239f6b0f0>},\n",
       " '41003': {'name': 'Benton',\n",
       "  'geom': <shapely.geometry.polygon.Polygon at 0x14a239805860>},\n",
       " '41047': {'name': 'Marion',\n",
       "  'geom': <shapely.geometry.polygon.Polygon at 0x14a23a103e10>},\n",
       " '41023': {'name': 'Grant',\n",
       "  'geom': <shapely.geometry.polygon.Polygon at 0x14a239996828>},\n",
       " '41011': {'name': 'Coos',\n",
       "  'geom': <shapely.geometry.polygon.Polygon at 0x14a239996c50>},\n",
       " '41043': {'name': 'Linn',\n",
       "  'geom': <shapely.geometry.polygon.Polygon at 0x14a239798550>},\n",
       " '41037': {'name': 'Lake',\n",
       "  'geom': <shapely.geometry.polygon.Polygon at 0x14a239ce61d0>},\n",
       " '41069': {'name': 'Wheeler',\n",
       "  'geom': <shapely.geometry.polygon.Polygon at 0x14a23977ae80>},\n",
       " '41045': {'name': 'Malheur',\n",
       "  'geom': <shapely.geometry.polygon.Polygon at 0x14a23977f128>},\n",
       " '41039': {'name': 'Lane',\n",
       "  'geom': <shapely.geometry.polygon.Polygon at 0x14a23a0bc6d8>},\n",
       " '41019': {'name': 'Douglas',\n",
       "  'geom': <shapely.geometry.polygon.Polygon at 0x14a239f25d68>},\n",
       " '41025': {'name': 'Harney',\n",
       "  'geom': <shapely.geometry.polygon.Polygon at 0x14a2399f9f98>},\n",
       " '41033': {'name': 'Josephine',\n",
       "  'geom': <shapely.geometry.polygon.Polygon at 0x14a23984f2b0>},\n",
       " '41053': {'name': 'Polk',\n",
       "  'geom': <shapely.geometry.polygon.Polygon at 0x14a239ff2f28>},\n",
       " '41065': {'name': 'Wasco',\n",
       "  'geom': <shapely.geometry.polygon.Polygon at 0x14a239fe9390>},\n",
       " '41071': {'name': 'Yamhill',\n",
       "  'geom': <shapely.geometry.polygon.Polygon at 0x14a239ab8978>},\n",
       " '41015': {'name': 'Curry',\n",
       "  'geom': <shapely.geometry.polygon.Polygon at 0x14a239e2aa58>},\n",
       " '41059': {'name': 'Umatilla',\n",
       "  'geom': <shapely.geometry.polygon.Polygon at 0x14a239bc8a58>},\n",
       " '41067': {'name': 'Washington',\n",
       "  'geom': <shapely.geometry.polygon.Polygon at 0x14a239fb9ef0>}}"
      ]
     },
     "execution_count": 28,
     "metadata": {},
     "output_type": "execute_result"
    }
   ],
   "source": [
    "counties"
   ]
  },
  {
   "cell_type": "markdown",
   "metadata": {},
   "source": [
    "# You can track a timeline of executions and locate where the electric chair was"
   ]
  },
  {
   "cell_type": "code",
   "execution_count": null,
   "metadata": {},
   "outputs": [],
   "source": []
  }
 ],
 "metadata": {
  "kernelspec": {
   "display_name": "myconda",
   "language": "python",
   "name": "myconda"
  },
  "language_info": {
   "codemirror_mode": {
    "name": "ipython",
    "version": 3
   },
   "file_extension": ".py",
   "mimetype": "text/x-python",
   "name": "python",
   "nbconvert_exporter": "python",
   "pygments_lexer": "ipython3",
   "version": "3.7.3"
  }
 },
 "nbformat": 4,
 "nbformat_minor": 4
}
