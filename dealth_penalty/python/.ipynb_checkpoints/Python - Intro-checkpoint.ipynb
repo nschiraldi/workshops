{
 "cells": [
  {
   "cell_type": "code",
   "execution_count": 6,
   "metadata": {
    "slideshow": {
     "slide_type": "skip"
    }
   },
   "outputs": [],
   "source": [
    "%matplotlib inline"
   ]
  },
  {
   "cell_type": "markdown",
   "metadata": {
    "slideshow": {
     "slide_type": "slide"
    }
   },
   "source": [
    "# Intro to `Python` for Data Analytics\n",
    "\n",
    "***\n",
    "\n",
    "<center>\n",
    "<img src=\"https://jupytertest.arcc.albany.edu/user/ns742711/kernelspecs/python3/logo-64x64.png\"/> \n",
    "<br>\n",
    "<img src=\"https://jupytertest.arcc.albany.edu/hub/logo\"/>\n",
    "</center>\n",
    "\n",
    "***\n",
    "<p>By Nicholas Schiraldi, PhD <br> Data Analytics and Visualization Specialist <br>\n",
    "Academic and Research Computing Center, ITS <br>\n",
    "University at Albany</p>"
   ]
  },
  {
   "cell_type": "markdown",
   "metadata": {
    "slideshow": {
     "slide_type": "slide"
    }
   },
   "source": [
    "<font size=14px>What is Python?</font><br>\n",
    "***\n",
    "<font size=8px> Python is\n",
    "    - open source (wohoo!)\n",
    "    - object.oriented\n",
    "    - high level \n",
    "    - quickly growing (development and active users)\n",
    "</font>\n",
    "<br>\n",
    "<font size=8px>... and it enables many <bold>powerful</bold> analytics and applications</font>"
   ]
  },
  {
   "cell_type": "markdown",
   "metadata": {
    "slideshow": {
     "slide_type": "subslide"
    }
   },
   "source": [
    "# An estimate of popularity...\n",
    "***\n",
    "<br>\n",
    "<img src=\"images/lang-rank-118-redmonk.png\"></img>"
   ]
  },
  {
   "cell_type": "markdown",
   "metadata": {
    "slideshow": {
     "slide_type": "subslide"
    }
   },
   "source": [
    "# Why Python?\n",
    "\n",
    "***\n",
    "\n",
    "<font size=6px> \n",
    "- It is open source, and has many packages for math, statistics, biology, physics, atmospheric sciences, etc.\n",
    "- It is widely used in the private sector (especially where you may be employed!)\n",
    "    - insurance companies, investment banks, research firms\n",
    "- Makes publication ready graphics, with very little effort\n",
    "- Active external user support community (i.e. stackoverflow, github)\n",
    "- Many powerful tools to extend it's usability (i.e. jupyter notebook, plotly dash)\n",
    "</font>\n"
   ]
  },
  {
   "cell_type": "markdown",
   "metadata": {
    "slideshow": {
     "slide_type": "slide"
    }
   },
   "source": [
    "***\n",
    "<h1><center>Let's get started with the basics... </center></h1>\n",
    "<h4> These slides are inspried by software carpentry's \"programming with python\" </h4>\n",
    "https://swcarpentry.github.io/python-novice-inflammation/\n"
   ]
  },
  {
   "cell_type": "markdown",
   "metadata": {
    "slideshow": {
     "slide_type": "subslide"
    }
   },
   "source": [
    "# Python Interpreter\n",
    "***\n",
    "- The python interpreter is a calculator, as you write code -- it will execute!\n",
    "- There are two main python interpreters you will encounter\n",
    "    - *python*\n",
    "    <img src=\"./images/python_terminal_1.PNG\"></img>\n",
    "    - *ipython*\n",
    "    <img src=\"./images/python_terminal_2.PNG\"></img>"
   ]
  },
  {
   "cell_type": "markdown",
   "metadata": {
    "slideshow": {
     "slide_type": "subslide"
    }
   },
   "source": [
    "# What is the Difference?\n",
    "***\n",
    "- ipython is \"interactive\"\n",
    "- Try to write a for loop in \"python\" (we'll explain this in a minute)...\n"
   ]
  },
  {
   "cell_type": "markdown",
   "metadata": {
    "slideshow": {
     "slide_type": "subslide"
    }
   },
   "source": [
    "# What is the Difference?\n",
    "***\n",
    "- ipython is \"interactive\"\n",
    "- Try to write a \"for loop\" in python (we'll explain this in a minute)...\n",
    "  - python\n",
    "  <img src=\"./images/python_terminal_3.PNG\"></img>\n",
    "  "
   ]
  },
  {
   "cell_type": "markdown",
   "metadata": {
    "slideshow": {
     "slide_type": "subslide"
    }
   },
   "source": [
    "# What is the Difference?\n",
    "***\n",
    "- ipython is \"interactive\"\n",
    "- Try to write a for loop in ipython (we'll explain this in a minute)..."
   ]
  },
  {
   "cell_type": "markdown",
   "metadata": {
    "slideshow": {
     "slide_type": "subslide"
    }
   },
   "source": [
    "# What is the Difference?\n",
    "***\n",
    "- ipython is \"interactive\"\n",
    "- Try to write a for loop in ipython (we'll explain this in a minute)...\n",
    "  - ipython\n",
    "  <img src=\"./images/python_terminal_4.PNG\"></img>\n",
    "  "
   ]
  },
  {
   "cell_type": "markdown",
   "metadata": {
    "slideshow": {
     "slide_type": "subslide"
    }
   },
   "source": [
    "# What is the Difference?\n",
    "***\n",
    "\n",
    "\n",
    "<center><font size=14> ipython is interactive!</font></center>\n",
    "\n",
    "- ipython exposes a few very useful \"magic\" commands, for development: https://ipython.readthedocs.io/en/stable/interactive/magics.html \n",
    "- While developing, ``` %paste``` is your best friend (we'll demonstrate this later) "
   ]
  },
  {
   "cell_type": "markdown",
   "metadata": {
    "slideshow": {
     "slide_type": "slide"
    }
   },
   "source": [
    "# Python Basics\n",
    "***\n",
    "\n",
    "## Data Types\n",
    "- String\n",
    "- Integer\n",
    "- Floating point "
   ]
  },
  {
   "cell_type": "markdown",
   "metadata": {
    "slideshow": {
     "slide_type": "subslide"
    }
   },
   "source": [
    "# Python Basics\n",
    "***\n",
    "\n",
    "## Data Types\n",
    "- String\n",
    "  - Strings can be defined with single (') or double quotes (\")\n",
    "  - docstrings are enclosed by three single ticks ''' '''\n",
    "    - docstrings are useful for providing information about what specific functions do"
   ]
  },
  {
   "cell_type": "code",
   "execution_count": 8,
   "metadata": {
    "slideshow": {
     "slide_type": "subslide"
    }
   },
   "outputs": [
    {
     "name": "stdout",
     "output_type": "stream",
     "text": [
      "This is a string\n",
      "\n",
      "This is also a string\n",
      "\n",
      "This \n",
      "is \n",
      "a \n",
      "doc \n",
      "string\n"
     ]
    }
   ],
   "source": [
    "print('This is a string\\n')\n",
    "\n",
    "print(\"This is also a string\\n\")\n",
    "\n",
    "print('''This \n",
    "is \n",
    "a \n",
    "doc \n",
    "string''')"
   ]
  },
  {
   "cell_type": "markdown",
   "metadata": {
    "slideshow": {
     "slide_type": "subslide"
    }
   },
   "source": [
    "# Python Basics\n",
    "***\n",
    "\n",
    "## Data Types\n",
    "- String\n",
    "  - Strings can be defined with single (') or double quotes (\")\n",
    "  - docstrings are enclosed by three single ticks ''' '''\n",
    "    - docstrings are useful for providing information about what specific functions do\n",
    "- Integer\n",
    "  - integers can be signed or unsigned\n",
    "    - 0, -1, 2"
   ]
  },
  {
   "cell_type": "markdown",
   "metadata": {
    "slideshow": {
     "slide_type": "subslide"
    }
   },
   "source": [
    "# Python Basics\n",
    "***\n",
    "\n",
    "## Data Types\n",
    "- String\n",
    "  - Strings can be defined with single (') or double quotes (\")\n",
    "  - docstrings are enclosed by three single ticks ''' '''\n",
    "    - docstrings are useful for providing information about what specific functions do\n",
    "- Integer\n",
    "  - integers can be signed or unsigned\n",
    "    - 0, -1, 2\n",
    "- Floating point integers are decimals\n",
    "  - 0.1, -100."
   ]
  },
  {
   "cell_type": "markdown",
   "metadata": {
    "slideshow": {
     "slide_type": "subslide"
    }
   },
   "source": [
    "# Python Basics\n",
    "***\n",
    "## Common Data Collections\n",
    "- list\n",
    "- tuple\n",
    "- dictionary\n",
    "- set"
   ]
  },
  {
   "cell_type": "markdown",
   "metadata": {
    "slideshow": {
     "slide_type": "subslide"
    }
   },
   "source": [
    "# Python Basics\n",
    "***\n",
    "## Common Data Collections\n",
    "- list - ordered and changeable, allows duplicates\n",
    "\n",
    "  `symbol=['AAPL','NKE','UA']`\n",
    "\n",
    "  `price=[223.54,92.28,17.68]`"
   ]
  },
  {
   "cell_type": "markdown",
   "metadata": {
    "slideshow": {
     "slide_type": "subslide"
    }
   },
   "source": [
    "# Python Basics\n",
    "***\n",
    "## Common Data Collections\n",
    "- list - ordered and changeable, allows duplicates\n",
    "\n",
    "  `symbol=['AAPL','NKE','UA']`\n",
    "\n",
    "  `price=[223.54,92.28,17.68]`\n",
    "  \n",
    "- tuple - ordered and unchangeable, allows duplicates\n",
    "  \n",
    "  `(('AAPL',223.54),('NKE',92.28),('UA',17.68))`"
   ]
  },
  {
   "cell_type": "markdown",
   "metadata": {
    "slideshow": {
     "slide_type": "subslide"
    }
   },
   "source": [
    "# Python Basics\n",
    "***\n",
    "## Common Data Collections\n",
    "- list - ordered and changeable, allows duplicates\n",
    "\n",
    "  `symbol=['AAPL','NKE','UA']`\n",
    "\n",
    "  `price=[223.54,92.28,17.68]`\n",
    "\n",
    "- tuple - ordered and unchangeable, allows duplicates\n",
    "  \n",
    "  `(('AAPL',223.54),('NKE',92.28),('UA',17.68))`\n",
    "  \n",
    "- dictionary - unordered, changeable and indexed, no duplicate members\n",
    "\n",
    "  `stocks={'AAPL': 223.54, 'NKE': 92.28,'UA': 17.68}`"
   ]
  },
  {
   "cell_type": "markdown",
   "metadata": {
    "slideshow": {
     "slide_type": "subslide"
    }
   },
   "source": [
    "# Python Basics\n",
    "***\n",
    "## Common Data Collections\n",
    "- list - ordered and changeable, allows duplicates\n",
    "\n",
    "  `symbol=['AAPL','NKE','UA']`\n",
    "\n",
    "  `price=[223.54,92.28,17.68]`\n",
    "\n",
    "- tuple - tuples are ordered and cannot be changed!\n",
    "  \n",
    "  `(('AAPL',223.54),('NKE',92.28),('UA',17.68))`\n",
    "  \n",
    "- dictionary - unordered, changeable and indexed, no duplicate members\n",
    "\n",
    "  `stocks={'AAPL': 223.54, 'NKE': 92.28,'UA': 17.68}`\n",
    "\n",
    "- set - unordered and unindexed, no duplicate members\n",
    "  \n",
    "  `symbol=set('AAPL','NKE','UA')`\n"
   ]
  },
  {
   "cell_type": "markdown",
   "metadata": {
    "slideshow": {
     "slide_type": "subslide"
    }
   },
   "source": [
    "# Python Basics\n",
    "***\n",
    "## Common Data Collections\n",
    "- list - ordered and changeable, allows duplicates\n",
    "\n",
    "  `symbol=['AAPL','NKE','UA']`\n",
    "\n",
    "  `price=[223.54,92.28,17.68]`\n",
    "\n",
    "- tuple - tuples are ordered and cannot be changed!\n",
    "  \n",
    "  `(('AAPL',223.54),('NKE',92.28),('UA',17.68))`\n",
    "  \n",
    "- dictionary - unordered, changeable and indexed, no duplicate members\n",
    "\n",
    "  `stocks={'AAPL': 223.54, 'NKE': 92.28,'UA': 17.68}`\n",
    "\n",
    "- set - unordered and unindexed, no duplicate members\n",
    "  \n",
    "  `symbol=set('AAPL','NKE','UA')`\n",
    "\n",
    "- Other data collections are available and widely used, check the documentation! "
   ]
  },
  {
   "cell_type": "markdown",
   "metadata": {
    "slideshow": {
     "slide_type": "slide"
    }
   },
   "source": [
    "# Python Basics\n",
    "***\n",
    "## Indexing\n",
    "\n",
    "After storing all of this data in a \"variable\", how can we get out the pieces that we need?\n",
    "- Python indexing is zero based\n",
    "- A varable is \"indexed\" using [], and is index as variable[row, col,...]\n",
    "- : means take all of the items in a given dimension of a variable"
   ]
  },
  {
   "cell_type": "markdown",
   "metadata": {
    "slideshow": {
     "slide_type": "subslide"
    }
   },
   "source": [
    "# Python Basics\n",
    "***\n",
    "## Indexing\n",
    "\n",
    "After storing all of this data in a \"variable\", how can we get out the pieces that we need?\n",
    "- Python indexing is zero based\n",
    "- A varable is \"indexed\" using [], and is index as variable[row, col,...]\n",
    "- : means take all of the items in a given dimension of a variable\n",
    "\n",
    "## Time for exercises!"
   ]
  },
  {
   "cell_type": "code",
   "execution_count": null,
   "metadata": {},
   "outputs": [],
   "source": []
  }
 ],
 "metadata": {
  "celltoolbar": "Slideshow",
  "kernelspec": {
   "display_name": "Python 3",
   "language": "python",
   "name": "python3"
  },
  "language_info": {
   "codemirror_mode": {
    "name": "ipython",
    "version": 3
   },
   "file_extension": ".py",
   "mimetype": "text/x-python",
   "name": "python",
   "nbconvert_exporter": "python",
   "pygments_lexer": "ipython3",
   "version": "3.6.7"
  },
  "toc": {
   "base_numbering": 1,
   "nav_menu": {},
   "number_sections": false,
   "sideBar": true,
   "skip_h1_title": false,
   "title_cell": "Table of Contents",
   "title_sidebar": "Contents",
   "toc_cell": false,
   "toc_position": {},
   "toc_section_display": true,
   "toc_window_display": false
  }
 },
 "nbformat": 4,
 "nbformat_minor": 4
}
