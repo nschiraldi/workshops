{
 "cells": [
  {
   "cell_type": "code",
   "execution_count": 36,
   "metadata": {},
   "outputs": [],
   "source": [
    "# we only need this line for jupyter\n",
    "%matplotlib inline "
   ]
  },
  {
   "cell_type": "markdown",
   "metadata": {},
   "source": [
    "## This first step, is to import the packages that we need"
   ]
  },
  {
   "cell_type": "code",
   "execution_count": 45,
   "metadata": {},
   "outputs": [],
   "source": [
    "from pprint import pprint\n",
    "import numpy as np \n",
    "import matplotlib.pyplot as plt"
   ]
  },
  {
   "cell_type": "markdown",
   "metadata": {},
   "source": [
    "Now, we have access to all of numpy's functions unde the alias of numpy and matplotlib.pyplot's plotting functions under the alias of plt. Note that you can alias these packages however you want."
   ]
  },
  {
   "cell_type": "markdown",
   "metadata": {},
   "source": [
    "## A deeper dive into lists"
   ]
  },
  {
   "cell_type": "markdown",
   "metadata": {},
   "source": [
    "Remember, lists are 0-based indexed.\n",
    "\n"
   ]
  },
  {
   "cell_type": "markdown",
   "metadata": {},
   "source": [
    "<img src=\"./images/ex1_index.PNG\"> "
   ]
  },
  {
   "cell_type": "markdown",
   "metadata": {},
   "source": [
    "And for a 2 dimenaional list"
   ]
  },
  {
   "cell_type": "markdown",
   "metadata": {},
   "source": [
    "<img src=\"./images/ex1_index2d.PNG\"> "
   ]
  },
  {
   "cell_type": "markdown",
   "metadata": {},
   "source": [
    "What is the forward indexed position of the word: \"awesome\" in the following list?\n",
    "\n",
    "`facts = [\"The\",\"Albany\",\"Great\",\"Danes\",\"are\",\"awesome\"]`"
   ]
  },
  {
   "cell_type": "code",
   "execution_count": 34,
   "metadata": {},
   "outputs": [
    {
     "data": {
      "text/plain": [
       "'awesome'"
      ]
     },
     "execution_count": 34,
     "metadata": {},
     "output_type": "execute_result"
    }
   ],
   "source": [
    "facts = [\"The\",\"Albany\",\"Great\",\"Danes\",\"are\",\"awesome\"]\n",
    "facts[5]"
   ]
  },
  {
   "cell_type": "code",
   "execution_count": 7,
   "metadata": {},
   "outputs": [
    {
     "name": "stdout",
     "output_type": "stream",
     "text": [
      "awesome\n"
     ]
    }
   ],
   "source": [
    "facts = [\"The\",\"Albany\",\"Great\",\"Danes\",\"are\",\"awesome\"]\n",
    "\n",
    "print(facts[5])"
   ]
  },
  {
   "cell_type": "markdown",
   "metadata": {},
   "source": [
    "What is the backward indexed position of Danes?"
   ]
  },
  {
   "cell_type": "code",
   "execution_count": 35,
   "metadata": {},
   "outputs": [
    {
     "data": {
      "text/plain": [
       "'Danes'"
      ]
     },
     "execution_count": 35,
     "metadata": {},
     "output_type": "execute_result"
    }
   ],
   "source": [
    "facts = [\"The\",\"Albany\",\"Great\",\"Danes\",\"are\",\"awesome\"]\n",
    "facts[-3]"
   ]
  },
  {
   "cell_type": "markdown",
   "metadata": {},
   "source": [
    "Consider the following two dimensional list, what is the position of 84000000?\n",
    "\n",
    "`salaries=[\n",
    "    ['Messi', 'Ronaldo','Neymar','Bale',  'Pogba'],\n",
    "    [84000000,61000000, 73000000,28600000,18000000]\n",
    "]`"
   ]
  },
  {
   "cell_type": "code",
   "execution_count": 1,
   "metadata": {},
   "outputs": [
    {
     "name": "stdout",
     "output_type": "stream",
     "text": [
      "84000000\n"
     ]
    }
   ],
   "source": [
    "salaries=[\n",
    "    ['Messi', 'Ronaldo','Neymar','Bale',  'Pogba'],\n",
    "    [84000000,61000000, 73000000,28600000,18000000]\n",
    "]\n",
    "print(salaries[1][0])"
   ]
  },
  {
   "cell_type": "markdown",
   "metadata": {},
   "source": [
    "Oops, there was a typo on Pogba's Salary, it should have been 25000000, how can we update the list?"
   ]
  },
  {
   "cell_type": "code",
   "execution_count": 22,
   "metadata": {},
   "outputs": [
    {
     "name": "stdout",
     "output_type": "stream",
     "text": [
      "[['Messi', 'Ronaldo', 'Neymar', 'Bale', 'Pogba'], [84000000, 61000000, 73000000, 28600000, 25000000]]\n"
     ]
    }
   ],
   "source": [
    "salaries=[\n",
    "    ['Messi', 'Ronaldo','Neymar','Bale',  'Pogba'],\n",
    "    [84000000,61000000, 73000000,28600000,18000000]\n",
    "]\n",
    "salaries[1][-1]=25000000\n",
    "print(salaries)"
   ]
  },
  {
   "cell_type": "markdown",
   "metadata": {},
   "source": [
    "We can also delete elements of a list, let's delete \"Bale\" and his salary of \"28600000\""
   ]
  },
  {
   "cell_type": "code",
   "execution_count": 23,
   "metadata": {},
   "outputs": [
    {
     "name": "stdout",
     "output_type": "stream",
     "text": [
      "[['Messi', 'Ronaldo', 'Neymar', 'Pogba'], [84000000, 61000000, 73000000, 28600000, 25000000]]\n",
      "[['Messi', 'Ronaldo', 'Neymar', 'Pogba'], [84000000, 61000000, 73000000, 25000000]]\n"
     ]
    }
   ],
   "source": [
    "del salaries[0][3]\n",
    "print(salaries)\n",
    "# Note that \"lists of lists\" can be different dimensions!!!!\n",
    "\n",
    "del salaries[1][3]\n",
    "print(salaries)"
   ]
  },
  {
   "cell_type": "markdown",
   "metadata": {},
   "source": [
    "And now, let's add it back in to the 4th position"
   ]
  },
  {
   "cell_type": "code",
   "execution_count": 24,
   "metadata": {},
   "outputs": [
    {
     "name": "stdout",
     "output_type": "stream",
     "text": [
      "[['Messi', 'Ronaldo', 'Neymar', 'Bale', 'Pogba'], [84000000, 61000000, 73000000, 28600000, 25000000]]\n"
     ]
    }
   ],
   "source": [
    "salaries[0].insert(3,'Bale')\n",
    "salaries[1].insert(3,28600000)\n",
    "\n",
    "print(salaries)"
   ]
  },
  {
   "cell_type": "markdown",
   "metadata": {},
   "source": [
    "## How about dictionaries?"
   ]
  },
  {
   "cell_type": "markdown",
   "metadata": {},
   "source": [
    "Given a dictionary of football player's salaries, how do we grab Bale's earnings? \n",
    "\n",
    "`salary={\n",
    "    'Player': ['Messi', 'Ronaldo','Neymar','Bale',  'Pogba'],\n",
    "    'Salary': [84000000,61000000, 73000000,28600000,25000000]\n",
    "}`"
   ]
  },
  {
   "cell_type": "code",
   "execution_count": 30,
   "metadata": {},
   "outputs": [
    {
     "name": "stdout",
     "output_type": "stream",
     "text": [
      "28600000\n"
     ]
    }
   ],
   "source": [
    "salary = {\n",
    "    'Player': ['Messi', 'Ronaldo', 'Neymar', 'Bale', 'Pogba'],\n",
    "    'Salary': [84000000, 61000000, 73000000, 28600000, 25000000]\n",
    "}\n",
    "print(\n",
    "    salary['Salary'][\n",
    "        salary['Player'].index('Bale')\n",
    "    ]\n",
    ")"
   ]
  },
  {
   "cell_type": "markdown",
   "metadata": {},
   "source": [
    "## Quickly, let's talk about looping"
   ]
  },
  {
   "cell_type": "code",
   "execution_count": null,
   "metadata": {},
   "outputs": [],
   "source": []
  },
  {
   "cell_type": "markdown",
   "metadata": {},
   "source": [
    "## Now, its time for functions"
   ]
  },
  {
   "cell_type": "code",
   "execution_count": null,
   "metadata": {},
   "outputs": [],
   "source": []
  }
 ],
 "metadata": {
  "kernelspec": {
   "display_name": "Python 3",
   "language": "python",
   "name": "python3"
  },
  "language_info": {
   "codemirror_mode": {
    "name": "ipython",
    "version": 3
   },
   "file_extension": ".py",
   "mimetype": "text/x-python",
   "name": "python",
   "nbconvert_exporter": "python",
   "pygments_lexer": "ipython3",
   "version": "3.6.7"
  },
  "toc": {
   "base_numbering": 1,
   "nav_menu": {},
   "number_sections": false,
   "sideBar": true,
   "skip_h1_title": false,
   "title_cell": "Table of Contents",
   "title_sidebar": "Contents",
   "toc_cell": false,
   "toc_position": {},
   "toc_section_display": true,
   "toc_window_display": false
  }
 },
 "nbformat": 4,
 "nbformat_minor": 4
}
