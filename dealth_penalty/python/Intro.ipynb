{
 "cells": [
  {
   "cell_type": "code",
   "execution_count": 2,
   "metadata": {
    "slideshow": {
     "slide_type": "skip"
    }
   },
   "outputs": [],
   "source": [
    "%matplotlib inline"
   ]
  },
  {
   "cell_type": "markdown",
   "metadata": {
    "slideshow": {
     "slide_type": "slide"
    }
   },
   "source": [
    "# Intro to `Python` for Data Analytics\n",
    "\n",
    "***\n",
    "\n",
    "<center>\n",
    "<img src=\"https://jupytertest.arcc.albany.edu/user/ns742711/kernelspecs/python3/logo-64x64.png\"/> \n",
    "<br>\n",
    "<img src=\"https://jupytertest.arcc.albany.edu/hub/logo\"/>\n",
    "</center>\n",
    "\n",
    "***\n",
    "<p>By Nicholas Schiraldi, PhD <br> Data Analytics and Visualization Specialist <br>\n",
    "Academic and Research Computing Center, ITS <br>\n",
    "University at Albany</p>"
   ]
  },
  {
   "cell_type": "markdown",
   "metadata": {
    "slideshow": {
     "slide_type": "slide"
    }
   },
   "source": [
    "<font size=14px>What is Python?</font><br>\n",
    "***\n",
    "<font size=8px> Python is\n",
    "    - open source (wohoo!)\n",
    "    - object.oriented\n",
    "    - high level \n",
    "    - quickly growing (development and active users)\n",
    "</font>\n",
    "<br>\n",
    "<font size=8px>... and it enables many <bold>powerful</bold> analytics and applications</font>"
   ]
  },
  {
   "cell_type": "markdown",
   "metadata": {
    "slideshow": {
     "slide_type": "subslide"
    }
   },
   "source": [
    "# An estimate of popularity...\n",
    "***\n",
    "<br>\n",
    "<img src=\"images/lang-rank-118-redmonk.png\"></img>"
   ]
  },
  {
   "cell_type": "markdown",
   "metadata": {
    "slideshow": {
     "slide_type": "subslide"
    }
   },
   "source": [
    "# Why Python?\n",
    "\n",
    "***\n",
    "\n",
    "<font size=6px> \n",
    "- It is open source, and has many packages for math, statistics, biology, physics, atmospheric sciences, etc.\n",
    "- It is widely used in the private sector (especially where you may be employed!)\n",
    "    - insurance companies, investment banks, research firms\n",
    "- Makes publication ready graphics, with very little effort\n",
    "- Active external user support community (i.e. stackoverflow, github)\n",
    "- Many powerful tools to extend it's usability (i.e. jupyter notebook, plotly dash)\n",
    "</font>\n"
   ]
  },
  {
   "cell_type": "markdown",
   "metadata": {
    "slideshow": {
     "slide_type": "slide"
    }
   },
   "source": [
    "***\n",
    "<h1><center>Let's get started with the basics... </center></h1>\n",
    "<h4> These slides are inspried by software carpentry's \"programming with python\" </h4>\n",
    "https://swcarpentry.github.io/python-novice-inflammation/\n"
   ]
  },
  {
   "cell_type": "markdown",
   "metadata": {
    "slideshow": {
     "slide_type": "subslide"
    }
   },
   "source": [
    "# Python Interpreter\n",
    "***\n",
    "- The python interpreter is a calculator, as you write code -- it will execute!\n",
    "- There are two main python interpreters you will encounter\n",
    "    - *python*\n",
    "    <img src=\"./images/python_terminal_1.PNG\"></img>\n",
    "    - *ipython*\n",
    "    <img src=\"./images/python_terminal_2.PNG\"></img>"
   ]
  },
  {
   "cell_type": "markdown",
   "metadata": {
    "slideshow": {
     "slide_type": "subslide"
    }
   },
   "source": [
    "# What is the Difference?\n",
    "***\n",
    "- ipython is \"interactive\"\n",
    "- Try to write a for loop in \"python\" (we'll explain this in a minute)...\n"
   ]
  },
  {
   "cell_type": "markdown",
   "metadata": {
    "slideshow": {
     "slide_type": "fragment"
    }
   },
   "source": [
    "  <img src=\"./images/python_terminal_3.PNG\"></img>\n",
    "  "
   ]
  },
  {
   "cell_type": "markdown",
   "metadata": {
    "slideshow": {
     "slide_type": "subslide"
    }
   },
   "source": [
    "# What is the Difference?\n",
    "***\n",
    "- ipython is \"interactive\"\n",
    "- Try to write a for loop in ipython (we'll explain this in a minute)..."
   ]
  },
  {
   "cell_type": "markdown",
   "metadata": {
    "slideshow": {
     "slide_type": "fragment"
    }
   },
   "source": [
    "  <img src=\"./images/python_terminal_4.PNG\"></img>\n",
    "  "
   ]
  },
  {
   "cell_type": "markdown",
   "metadata": {
    "slideshow": {
     "slide_type": "subslide"
    }
   },
   "source": [
    "# What is the Difference?\n",
    "***\n",
    "\n",
    "\n",
    "<center><font size=14> ipython is interactive!</font></center>\n",
    "\n",
    "- ipython exposes a few very useful \"magic\" commands, for development: https://ipython.readthedocs.io/en/stable/interactive/magics.html \n",
    "- While developing, ``` %paste``` is your best friend (we'll demonstrate this later) "
   ]
  },
  {
   "cell_type": "markdown",
   "metadata": {
    "slideshow": {
     "slide_type": "slide"
    }
   },
   "source": [
    "# Jupyter\n",
    "---\n",
    "Jupyter is another way to code, where you can share complex documents with other users\n"
   ]
  },
  {
   "cell_type": "markdown",
   "metadata": {
    "slideshow": {
     "slide_type": "fragment"
    }
   },
   "source": [
    "- qtconsole\n",
    "<img src=\"./images/python_qtconsole.PNG\"></img>"
   ]
  },
  {
   "cell_type": "markdown",
   "metadata": {
    "slideshow": {
     "slide_type": "subslide"
    }
   },
   "source": [
    "# Jupyter\n",
    "---\n",
    "- Jupyter notebooks (how I am show this slideshow!)"
   ]
  },
  {
   "cell_type": "markdown",
   "metadata": {
    "slideshow": {
     "slide_type": "slide"
    }
   },
   "source": [
    "# Python Basics\n",
    "***\n",
    "\n",
    "## Data Types\n",
    "- String\n",
    "- Integer\n",
    "- Floating point "
   ]
  },
  {
   "cell_type": "markdown",
   "metadata": {
    "slideshow": {
     "slide_type": "subslide"
    }
   },
   "source": [
    "# Python Basics\n",
    "***\n",
    "\n",
    "## Data Types\n",
    "- String\n",
    "  - Strings can be defined with single (') or double quotes (\")\n",
    "  - docstrings are enclosed by three single ticks ''' '''\n",
    "    - docstrings are useful for providing information about what specific functions do"
   ]
  },
  {
   "cell_type": "code",
   "execution_count": 8,
   "metadata": {
    "slideshow": {
     "slide_type": "fragment"
    }
   },
   "outputs": [
    {
     "name": "stdout",
     "output_type": "stream",
     "text": [
      "This is a string\n",
      "\n",
      "This is also a string\n",
      "\n",
      "This \n",
      "is \n",
      "a \n",
      "doc \n",
      "string\n"
     ]
    }
   ],
   "source": [
    "print('This is a string\\n')\n",
    "\n",
    "print(\"This is also a string\\n\")\n",
    "\n",
    "print('''This \n",
    "is \n",
    "a \n",
    "doc \n",
    "string''')"
   ]
  },
  {
   "cell_type": "markdown",
   "metadata": {
    "slideshow": {
     "slide_type": "subslide"
    }
   },
   "source": [
    "# Python Basics\n",
    "***\n",
    "\n",
    "## Data Types\n",
    "- String\n",
    "  - Strings can be defined with single (') or double quotes (\")\n",
    "  - docstrings are enclosed by three single ticks ''' '''\n",
    "    - docstrings are useful for providing information about what specific functions do\n",
    "- Integer\n",
    "  - integers can be signed or unsigned\n",
    "    - 0, -1, 2"
   ]
  },
  {
   "cell_type": "markdown",
   "metadata": {
    "slideshow": {
     "slide_type": "subslide"
    }
   },
   "source": [
    "# Python Basics\n",
    "***\n",
    "\n",
    "## Data Types\n",
    "- String\n",
    "  - Strings can be defined with single (') or double quotes (\")\n",
    "  - docstrings are enclosed by three single ticks ''' '''\n",
    "    - docstrings are useful for providing information about what specific functions do\n",
    "- Integer\n",
    "  - integers can be signed or unsigned\n",
    "    - 0, -1, 2\n",
    "- Floating point integers are decimals\n",
    "  - 0.1, -100."
   ]
  },
  {
   "cell_type": "markdown",
   "metadata": {
    "slideshow": {
     "slide_type": "subslide"
    }
   },
   "source": [
    "# Python Basics\n",
    "***\n",
    "## Common Data Collections\n",
    "- list\n",
    "- tuple\n",
    "- dictionary\n",
    "- set"
   ]
  },
  {
   "cell_type": "markdown",
   "metadata": {
    "slideshow": {
     "slide_type": "subslide"
    }
   },
   "source": [
    "# Python Basics\n",
    "***\n",
    "## Data Collections\n",
    "- list - ordered and changeable, allows duplicates\n",
    "\n",
    "  `symbol=['AAPL','NKE','UA']`\n",
    "\n",
    "  `price=[223.54,92.28,17.68]`"
   ]
  },
  {
   "cell_type": "markdown",
   "metadata": {
    "slideshow": {
     "slide_type": "fragment"
    }
   },
   "source": [
    "- tuple - ordered and unchangeable, allows duplicates\n",
    "  \n",
    "  `(('AAPL',223.54),('NKE',92.28),('UA',17.68))`"
   ]
  },
  {
   "cell_type": "markdown",
   "metadata": {
    "slideshow": {
     "slide_type": "fragment"
    }
   },
   "source": [
    "- dictionary - unordered, changeable and indexed, no duplicate members\n",
    "\n",
    "  `stocks={'AAPL': 223.54, 'NKE': 92.28,'UA': 17.68}`"
   ]
  },
  {
   "cell_type": "markdown",
   "metadata": {
    "slideshow": {
     "slide_type": "fragment"
    }
   },
   "source": [
    "- set - unordered and unindexed, no duplicate members\n",
    "  \n",
    "  `symbol=set('AAPL','NKE','UA')`\n"
   ]
  },
  {
   "cell_type": "markdown",
   "metadata": {
    "slideshow": {
     "slide_type": "subslide"
    }
   },
   "source": [
    "# Python Basics\n",
    "***\n",
    "## Data Collections\n",
    "- list - ordered and changeable, allows duplicates\n",
    "\n",
    "  `symbol=['AAPL','NKE','UA']`\n",
    "\n",
    "  `price=[223.54,92.28,17.68]`\n",
    "\n",
    "- tuple - tuples are ordered and cannot be changed!\n",
    "  \n",
    "  `(('AAPL',223.54),('NKE',92.28),('UA',17.68))`\n",
    "  \n",
    "- dictionary - unordered, changeable and indexed, no duplicate members\n",
    "\n",
    "  `stocks={'AAPL': 223.54, 'NKE': 92.28,'UA': 17.68}`\n",
    "\n",
    "- set - unordered and unindexed, no duplicate members\n",
    "  \n",
    "  `symbol=set('AAPL','NKE','UA')`\n",
    "\n",
    "- Other data collections are available and widely used, check the documentation! "
   ]
  },
  {
   "cell_type": "markdown",
   "metadata": {
    "slideshow": {
     "slide_type": "slide"
    }
   },
   "source": [
    "# Python Basics\n",
    "***\n",
    "## Indexing\n",
    "\n",
    "After storing all of this data in a \"variable\", how can we get out the pieces that we need?\n",
    "- List/tuple indexing is zero based\n",
    "- A varable is \"indexed\" using [], and is index as variable[row, col,...]\n",
    "- : means take all of the items in a given dimension of a variable\n",
    "- Dictionaries are indexed by their \"key\" (e.g. `stocks['AAPL']`)"
   ]
  },
  {
   "cell_type": "code",
   "execution_count": 9,
   "metadata": {
    "slideshow": {
     "slide_type": "fragment"
    }
   },
   "outputs": [
    {
     "name": "stdout",
     "output_type": "stream",
     "text": [
      "NKE\n",
      "223.54\n"
     ]
    }
   ],
   "source": [
    "symbol=['AAPL','NKE','UA']\n",
    "print(symbol[1])\n",
    "\n",
    "stocks={'AAPL': 223.54, 'NKE': 92.28,'UA': 17.68}\n",
    "# print(stocks[0])\n",
    "print(stocks['AAPL'])"
   ]
  },
  {
   "cell_type": "code",
   "execution_count": 11,
   "metadata": {},
   "outputs": [
    {
     "data": {
      "text/plain": [
       "dict_values([223.54, 92.28, 17.68])"
      ]
     },
     "execution_count": 11,
     "metadata": {},
     "output_type": "execute_result"
    }
   ],
   "source": [
    "stocks.values()"
   ]
  },
  {
   "cell_type": "markdown",
   "metadata": {
    "slideshow": {
     "slide_type": "slide"
    }
   },
   "source": [
    "# Python Basics\n",
    "***\n",
    "## Looping\n",
    "- \"looping\" allows iteration over a variable, list of numbers, dictionary key,value pairs, etc. so that many calculations that would be typed line by line need only be typed once!\n",
    "- loops follow the form of:\n",
    "\n",
    "` for var in something:\n",
    "    do something here`\n",
    "      \n",
    "- indentation is critical for looping, \"tab\" may not always be equal to four spaces, check with your editor!\n",
    "- Let's loop over the symbol and price lists from early, to print the stock symbol and strike price for each"
   ]
  },
  {
   "cell_type": "code",
   "execution_count": 13,
   "metadata": {
    "slideshow": {
     "slide_type": "fragment"
    }
   },
   "outputs": [
    {
     "name": "stdout",
     "output_type": "stream",
     "text": [
      "The strike price for AAPL is now $223.54\n",
      "The strike price for NKE is now $92.28\n",
      "The strike price for UA is now $17.68\n"
     ]
    }
   ],
   "source": [
    "symbol=['AAPL','NKE','UA']\n",
    "price=[223.54,92.28,17.68]\n",
    "\n",
    "for i in range(len(symbol)):\n",
    "    print('The strike price for {0} is now ${1}'.format(symbol[i],price[i]))"
   ]
  },
  {
   "cell_type": "code",
   "execution_count": 12,
   "metadata": {},
   "outputs": [
    {
     "data": {
      "text/plain": [
       "3"
      ]
     },
     "execution_count": 12,
     "metadata": {},
     "output_type": "execute_result"
    }
   ],
   "source": [
    "len(symbol)"
   ]
  },
  {
   "cell_type": "markdown",
   "metadata": {
    "slideshow": {
     "slide_type": "subslide"
    }
   },
   "source": [
    "# Python Basics\n",
    "***\n",
    "## Looping\n",
    "- You can also loop over a string:"
   ]
  },
  {
   "cell_type": "code",
   "execution_count": 14,
   "metadata": {
    "slideshow": {
     "slide_type": "fragment"
    }
   },
   "outputs": [
    {
     "name": "stdout",
     "output_type": "stream",
     "text": [
      "t\n",
      "h\n",
      "i\n",
      "s\n",
      " \n",
      "i\n",
      "s\n",
      " \n",
      "a\n",
      " \n",
      "s\n",
      "t\n",
      "r\n",
      "i\n",
      "n\n",
      "g\n"
     ]
    }
   ],
   "source": [
    "for char in 'this is a string':\n",
    "    print(char)"
   ]
  },
  {
   "cell_type": "markdown",
   "metadata": {
    "slideshow": {
     "slide_type": "slide"
    }
   },
   "source": [
    "# Python Basics\n",
    "***\n",
    "## Logical Tests\n",
    "- Equals ==\n",
    "- Greater than or equal to >=\n",
    "- Less than or equal to <=\n",
    "- Not equal to !=\n",
    "- or |\n",
    "- and &"
   ]
  },
  {
   "cell_type": "markdown",
   "metadata": {
    "slideshow": {
     "slide_type": "subslide"
    }
   },
   "source": [
    "# Python Basics\n",
    "***\n",
    "## Logical Indexing\n",
    "\n",
    "- We can combine looping and logical tests, to index one list based on another, assuming they are related and the same size"
   ]
  },
  {
   "cell_type": "code",
   "execution_count": 18,
   "metadata": {
    "slideshow": {
     "slide_type": "fragment"
    }
   },
   "outputs": [
    {
     "name": "stdout",
     "output_type": "stream",
     "text": [
      "The price of NKE is 92.28\n"
     ]
    }
   ],
   "source": [
    "symbol=['AAPL','NKE','UA']\n",
    "price=[223.54,92.28,17.68]\n",
    "\n",
    "selected='NKE'\n",
    "\n",
    "for i,v in enumerate(symbol):\n",
    "    if v == selected:\n",
    "        print('The price of {0} is {1}'.format(selected,price[i]))"
   ]
  },
  {
   "cell_type": "markdown",
   "metadata": {
    "slideshow": {
     "slide_type": "fragment"
    }
   },
   "source": [
    "Or, we can simply use the .index() method of a list!"
   ]
  },
  {
   "cell_type": "code",
   "execution_count": 20,
   "metadata": {
    "slideshow": {
     "slide_type": "fragment"
    }
   },
   "outputs": [
    {
     "data": {
      "text/plain": [
       "92.28"
      ]
     },
     "execution_count": 20,
     "metadata": {},
     "output_type": "execute_result"
    }
   ],
   "source": [
    "price[symbol.index(selected)]"
   ]
  },
  {
   "cell_type": "markdown",
   "metadata": {
    "slideshow": {
     "slide_type": "slide"
    }
   },
   "source": [
    "# Python Basics\n",
    "***\n",
    "## Modules !\n",
    "- While python has many useful \"built in\" functions, most of what you will use in research are contained in modules such as numpy, matplotlib, scipy, pandas, etc. \n",
    "- How do we take advantage of these powerful packages?\n",
    "- First we need to install them using `pip`. *Note that anaconda is often a better choice for managing python environments, but we will not discuss this here\n",
    "\n",
    "`pip install numpy`\n",
    "\n",
    "`pip install matplotlib`\n",
    "\n",
    "- Now, we can import and alias them, and use their functions!"
   ]
  },
  {
   "cell_type": "code",
   "execution_count": 22,
   "metadata": {
    "slideshow": {
     "slide_type": "subslide"
    }
   },
   "outputs": [
    {
     "data": {
      "text/plain": [
       "[<matplotlib.lines.Line2D at 0x147b405e6780>]"
      ]
     },
     "execution_count": 22,
     "metadata": {},
     "output_type": "execute_result"
    },
    {
     "data": {
      "image/png": "[encoded data removed]",
      "text/plain": [
       "<Figure size 432x288 with 1 Axes>"
      ]
     },
     "metadata": {
      "needs_background": "light"
     },
     "output_type": "display_data"
    }
   ],
   "source": [
    "import numpy as np\n",
    "import matplotlib.pyplot as plt\n",
    "\n",
    "rand=np.random.randint(0,100,[1000,1]) # create an array of random intergers, from 0 to 100, that has dimensions of [1000 x 1]\n",
    "plt.plot(rand) # plot the array"
   ]
  },
  {
   "cell_type": "markdown",
   "metadata": {
    "slideshow": {
     "slide_type": "slide"
    }
   },
   "source": [
    "# Python Basics\n",
    "---\n",
    "## Functions\n",
    "- Functions are a way to have code executed on some \"input\" arguments"
   ]
  },
  {
   "cell_type": "markdown",
   "metadata": {
    "slideshow": {
     "slide_type": "fragment"
    }
   },
   "source": [
    "`def function(argument1, argument2...):\n",
    "    do something with argument1, argument2...\n",
    "    return some_result`"
   ]
  },
  {
   "cell_type": "code",
   "execution_count": 23,
   "metadata": {
    "slideshow": {
     "slide_type": "fragment"
    }
   },
   "outputs": [
    {
     "data": {
      "text/plain": [
       "13"
      ]
     },
     "execution_count": 23,
     "metadata": {},
     "output_type": "execute_result"
    }
   ],
   "source": [
    "def plus(a,b):\n",
    "    return a + b\n",
    "\n",
    "plus(5,8)"
   ]
  },
  {
   "cell_type": "markdown",
   "metadata": {
    "slideshow": {
     "slide_type": "subslide"
    }
   },
   "source": [
    "# Python Basics\n",
    "---\n",
    "## Functions\n",
    "- another way to define a function in python is to use `lambda`, which you will encounter a lot\n",
    "- `lambda` takes the arguments and passes them through to the instructions after : \n",
    "- the difference is lambda functions are generally one line"
   ]
  },
  {
   "cell_type": "code",
   "execution_count": 8,
   "metadata": {
    "slideshow": {
     "slide_type": "fragment"
    }
   },
   "outputs": [
    {
     "data": {
      "text/plain": [
       "13"
      ]
     },
     "execution_count": 8,
     "metadata": {},
     "output_type": "execute_result"
    }
   ],
   "source": [
    "plus=lambda x,y: x+y\n",
    "plus(5,8)"
   ]
  },
  {
   "cell_type": "markdown",
   "metadata": {
    "slideshow": {
     "slide_type": "slide"
    }
   },
   "source": [
    "# Python Basics\n",
    "***\n",
    "## The help() function\n",
    "- help! I don't know what this function does, or how to use it!\n",
    "- Use the help() function to find out!\n",
    "`help(np.random.randint)`\n",
    "- or, read the documentation \n",
    "\n",
    "- if you post on stackoverflow, be prepared for RTFM"
   ]
  },
  {
   "cell_type": "code",
   "execution_count": 12,
   "metadata": {
    "slideshow": {
     "slide_type": "slide"
    }
   },
   "outputs": [
    {
     "name": "stdout",
     "output_type": "stream",
     "text": [
      "Help on built-in function randint:\n",
      "\n",
      "randint(...) method of numpy.random.mtrand.RandomState instance\n",
      "    randint(low, high=None, size=None, dtype='l')\n",
      "    \n",
      "    Return random integers from `low` (inclusive) to `high` (exclusive).\n",
      "    \n",
      "    Return random integers from the \"discrete uniform\" distribution of\n",
      "    the specified dtype in the \"half-open\" interval [`low`, `high`). If\n",
      "    `high` is None (the default), then results are from [0, `low`).\n",
      "    \n",
      "    Parameters\n",
      "    ----------\n",
      "    low : int or array-like of ints\n",
      "        Lowest (signed) integers to be drawn from the distribution (unless\n",
      "        ``high=None``, in which case this parameter is one above the\n",
      "        *highest* such integer).\n",
      "    high : int or array-like of ints, optional\n",
      "        If provided, one above the largest (signed) integer to be drawn\n",
      "        from the distribution (see above for behavior if ``high=None``).\n",
      "        If array-like, must contain integer values\n",
      "    size : int or tuple of ints, optional\n",
      "        Output shape.  If the given shape is, e.g., ``(m, n, k)``, then\n",
      "        ``m * n * k`` samples are drawn.  Default is None, in which case a\n",
      "        single value is returned.\n",
      "    dtype : dtype, optional\n",
      "        Desired dtype of the result. All dtypes are determined by their\n",
      "        name, i.e., 'int64', 'int', etc, so byteorder is not available\n",
      "        and a specific precision may have different C types depending\n",
      "        on the platform. The default value is 'np.int'.\n",
      "    \n",
      "        .. versionadded:: 1.11.0\n",
      "    \n",
      "    Returns\n",
      "    -------\n",
      "    out : int or ndarray of ints\n",
      "        `size`-shaped array of random integers from the appropriate\n",
      "        distribution, or a single such random int if `size` not provided.\n",
      "    \n",
      "    See Also\n",
      "    --------\n",
      "    random.random_integers : similar to `randint`, only for the closed\n",
      "        interval [`low`, `high`], and 1 is the lowest value if `high` is\n",
      "        omitted.\n",
      "    \n",
      "    Examples\n",
      "    --------\n",
      "    >>> np.random.randint(2, size=10)\n",
      "    array([1, 0, 0, 0, 1, 1, 0, 0, 1, 0]) # random\n",
      "    >>> np.random.randint(1, size=10)\n",
      "    array([0, 0, 0, 0, 0, 0, 0, 0, 0, 0])\n",
      "    \n",
      "    Generate a 2 x 4 array of ints between 0 and 4, inclusive:\n",
      "    \n",
      "    >>> np.random.randint(5, size=(2, 4))\n",
      "    array([[4, 0, 2, 1], # random\n",
      "           [3, 2, 2, 0]])\n",
      "    \n",
      "    Generate a 1 x 3 array with 3 different upper bounds\n",
      "    \n",
      "    >>> np.random.randint(1, [3, 5, 10])\n",
      "    array([2, 2, 9]) # random\n",
      "    \n",
      "    Generate a 1 by 3 array with 3 different lower bounds\n",
      "    \n",
      "    >>> np.random.randint([1, 5, 7], 10)\n",
      "    array([9, 8, 7]) # random\n",
      "    \n",
      "    Generate a 2 by 4 array using broadcasting with dtype of uint8\n",
      "    \n",
      "    >>> np.random.randint([1, 3, 5, 7], [[10], [20]], dtype=np.uint8)\n",
      "    array([[ 8,  6,  9,  7], # random\n",
      "           [ 1, 16,  9, 12]], dtype=uint8)\n",
      "\n"
     ]
    }
   ],
   "source": [
    "help(np.random.randint)"
   ]
  },
  {
   "cell_type": "markdown",
   "metadata": {
    "slideshow": {
     "slide_type": "slide"
    }
   },
   "source": [
    "# Let's play with some data\n",
    "***\n",
    "- While there is useful information in these slides, this is not a comprehensive guide to python\n",
    "- Often, the best way to learn a new language is to use it, so let's play with some data"
   ]
  }
 ],
 "metadata": {
  "celltoolbar": "Slideshow",
  "kernelspec": {
   "display_name": "Python 3",
   "language": "python",
   "name": "python3"
  },
  "language_info": {
   "codemirror_mode": {
    "name": "ipython",
    "version": 3
   },
   "file_extension": ".py",
   "mimetype": "text/x-python",
   "name": "python",
   "nbconvert_exporter": "python",
   "pygments_lexer": "ipython3",
   "version": "3.6.7"
  },
  "toc": {
   "base_numbering": 1,
   "nav_menu": {},
   "number_sections": false,
   "sideBar": true,
   "skip_h1_title": false,
   "title_cell": "Table of Contents",
   "title_sidebar": "Contents",
   "toc_cell": false,
   "toc_position": {},
   "toc_section_display": true,
   "toc_window_display": false
  }
 },
 "nbformat": 4,
 "nbformat_minor": 4
}
