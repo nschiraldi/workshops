{
 "cells": [
  {
   "cell_type": "markdown",
   "metadata": {
    "slideshow": {
     "slide_type": "slide"
    }
   },
   "source": [
    "<br></br>\n",
    "<font size=20><center>**High Performance Computing**\n",
    "<img src=\"./imgs/ua_logo.png\" width=\"500\"></img></center></font>\n",
    "<br></br>\n",
    "## A Quick Introduction\n",
    "<p>Nicholas Schiraldi, PhD<br>\n",
    "13 Feb 2020\n",
    "</p>"
   ]
  },
  {
   "cell_type": "markdown",
   "metadata": {
    "slideshow": {
     "slide_type": "slide"
    }
   },
   "source": [
    "<br></br>\n",
    "<font size=20>Why should I be interested in High Performance Computing (HPC)?</font>\n",
    "\n",
    "- Research problems that use computing can outgrow the desktop or laptop computer where they started\n",
    "\n",
    "- Genomics research and other bioinformatics can require not *too* much memory (10s of gbs) <!-- <center>![](./imgs/200px-laptop-openclipartorg-aoguerrero.png)</center> -->\n",
    "... or a *ton* of memory (hundreds of GBs)\n",
    " <!--<center><img src=\"./imgs/servers-openclipartorg-ericlemerdy.png\" width=\"100\"></img></center>-->\n",
    "- Some examples\n",
    "  - ongoing work with Belfort Lab -> ~350 GB of Memory\n",
    "  - ongoing work with Turnerlab -> 500GB - 1TB memory\n",
    "  \n",
    "*Images courtesy of https://hpc-carpentry.github.io/hpc-intro/\n"
   ]
  },
  {
   "cell_type": "markdown",
   "metadata": {
    "slideshow": {
     "slide_type": "subslide"
    }
   },
   "source": [
    "<br></br>\n",
    "<font size=20>Why should I be interested in High Performance Computing (HPC)?</font>\n",
    "\n",
    "<center><img src=\"./imgs/biz-niz-man-make-it-rain-meme.jpg\" width=500></img></center>\n",
    "\n",
    "- Much of the job growth in sciences is in data science, of which HPC is the foundation\n",
    "- If you are proficient in the lab, and proficient in data analytics, you're much more marketable to the private sector"
   ]
  },
  {
   "cell_type": "markdown",
   "metadata": {
    "slideshow": {
     "slide_type": "subslide"
    }
   },
   "source": [
    "<font size=20>Why should I be interested in High Performance Computing (HPC)?</font>\n",
    "\n",
    "<center><img src=\"./imgs/paper_capture.PNG\" width=800><img></center>\n",
    "\n",
    "- HPC enables cross disciplinary publications, and as someone familar with HPC you can contribute to efforts outside fo your discipline"
   ]
  },
  {
   "cell_type": "markdown",
   "metadata": {
    "slideshow": {
     "slide_type": "slide"
    }
   },
   "source": [
    "<font size=20>HPC at UAlbany</font>\n",
    "- What resources are available to you?\n",
    "  - 22 nodes (expanding to 37 soon) of varying architecture\n",
    "  - 2 Nvidia K80 GPUs\n",
    "  - Rstudio, Jupyterhub, etc.\n",
    "  - Other software delivered via module files or singularity environments\n",
    "  - gitlab for source control and private repositories \n",
    "  - 10TB of shared space in your advisor's research directory\n",
    "  "
   ]
  },
  {
   "cell_type": "markdown",
   "metadata": {
    "slideshow": {
     "slide_type": "subslide"
    }
   },
   "source": [
    "<font size=20>HPC at UAlbany</font>\n",
    "<center><img src=\"./imgs/cluster_snapshot.PNG\"></img>"
   ]
  },
  {
   "cell_type": "markdown",
   "metadata": {
    "slideshow": {
     "slide_type": "subslide"
    }
   },
   "source": [
    "<font size=20>HPC at UAlbany</font>\n",
    "- Access is provided via SSH to a headnode (see tutorials at rit.albany.edu)\n",
    "- Allocations are governed by SLURM, an open source resource manager\n",
    "  - You can spawn an interactive shell, or submit a job to run\n",
    "- The maximum wall time is 14 days, but we can make accommodations when necessary\n",
    "- We do allow using the cluster for classroom use, we have ways to guarantee availability when needed"
   ]
  },
  {
   "cell_type": "markdown",
   "metadata": {
    "slideshow": {
     "slide_type": "subslide"
    }
   },
   "source": [
    "<font size=20>HPC at UAlbany - Things to Remember</font>\n",
    "- Always work in your shared lab directory, your home directory is only 10GB !!!\n",
    "- NEVER, never, *never*, **never**, **execute code on the headnode**\n",
    "- Be a good HPC citizen, use only what you node for the amount of time you need it\n",
    "- You will never recieve sudo permissions, 99% of the time you do not need them (more later)\n",
    "- If you are unsure about how to schedule a job or what you are doing, email RTS@albany.edu\n"
   ]
  },
  {
   "cell_type": "markdown",
   "metadata": {
    "slideshow": {
     "slide_type": "slide"
    }
   },
   "source": [
    "<font size=20>HPC at UAlbany - Software</font>\n",
    "- Much software is precompiled in the path /network/rit/misc/software\n",
    "  - Of which, the most up to date versions are available via module files\n",
    "    - <code> module avail </code> \n",
    "    - <code> module load gromacs/2019.4-gpu </code>\n",
    "    - <code> module load openmpi/3.1.4 </code>\n",
    "    - <code> module load abyss/2.2.3</code>\n",
    "- You can install any additional software you need to your lab directory, and add it to your path in ```~/.bash_profile``` or ```~/.bashrc```\n",
    "  - If you think the software will be widely used, we are happy to create a modulefile for it!"
   ]
  },
  {
   "cell_type": "markdown",
   "metadata": {
    "slideshow": {
     "slide_type": "subslide"
    }
   },
   "source": [
    "<font size=20>HPC at UAlbany - Software - A note on Anaconda </font>\n",
    "- Anaconda is a fantastic package manager, that is usually used in full stack python engineering\n",
    "- Anaconda allows you to create environments for your code which **encourage reproducibility**\n",
    "- But, **Anaconda is more than that**\n",
    "<center><img src=\"./imgs/bioconda.PNG\"width=600></img></center>\n",
    "- Many software libraries in biology are prebuilt in Anaconda, regardless of whether or not they use python!\n",
    "  - If you're not sure how to compile a CMakefile or untar a .tar.gz, check for a prebuilt version in anaconda!\n"
   ]
  },
  {
   "cell_type": "markdown",
   "metadata": {
    "slideshow": {
     "slide_type": "slide"
    }
   },
   "source": [
    "<font size=20>HPC at UAlbany - Scheduling a Job</font>\n",
    "- Follow the guide on how to connect to the headnode (https://wiki.albany.edu/pages/viewpage.action?pageId=77894732)\n",
    "- To schedule an interactive shell\n",
    "  - read our guide on how to use screen/tmux to preserve interactive sessions (https://wiki.albany.edu/display/rit/How-to%3A+Using+screen+or+tmux+to+preserve+a+Linux+terminal+session)\n",
    "  - `srun -p batch -n 1 -N 1 --cpus-per-task=40 --mem=60G --constraint=avx512|avx --x11 --pty  $SHELL -i`\n",
    "- To submit a job for execution\n",
    "```bash \n",
    "  #!/bin/bash\n",
    "  # ~/myjob.sbatch\n",
    "  #SBATCH -N 1                    # One node\n",
    "  #SBATCH -n 1                    # One task on that node\n",
    "  #SBATCH -t 03-00                # Run for 3 days               \n",
    "  #SBATCH --cpus-per-task=40      # 40 cpus per task\n",
    "  #SBATCH --mem=60G               # 60 gb of memory\n",
    "  #SBATCH --constraint=avx512|avx # use the latest CPU architectures if availble, fall back to older architectures\n",
    "  #SBATCH -o myjob.%j.log         # output files\n",
    "  #SBATCH --mail-type=ALL\n",
    "  #SBATCH --mail-type=ALL\n",
    "  \n",
    "  # Start code below\n",
    "  module load openmpi/3.1.4\n",
    "  module load abyss/2.2.3\n",
    "  \n",
    "  ABYSS-P [args]  \n",
    "```\n",
    "\n",
    "`sbatch myjob.sbatch`"
   ]
  },
  {
   "cell_type": "markdown",
   "metadata": {
    "slideshow": {
     "slide_type": "slide"
    }
   },
   "source": [
    "<font size=20>HPC at UAlbany - Research Reproducibility</font>\n",
    "- Plan for how to make your data accessbile -- UAlbany Scholar's archive is  great place to let data live (although there are limits)!\n",
    "- Plan for how to make your code accessible\n",
    "    - check your code into gitlab (if you need private repos for free) or github (if you want access to a broader audience). Seriously, it's not as scary as it seems\n",
    "  - `git clone [repo]`\n",
    "  - `git init`\n",
    "  - `git add [args]`\n",
    "  - `git commit -m [statement]`\n",
    "  - `git push -u origin master`\n",
    "  - `git pull`\n",
    "- Spend time inserting comments and documenting workflows\n",
    "- Python? Use conda environments\n",
    "- R? Use packrat\n",
    "- Something else? github or singularity + github!\n"
   ]
  },
  {
   "cell_type": "markdown",
   "metadata": {
    "slideshow": {
     "slide_type": "slide"
    }
   },
   "source": [
    "<font size=20>HPC at UAlbany - A note on singularity</font>\n",
    "- Singularity is a container service, similar to docker, but we can't allow access to docker on our systems\n",
    "- It allows you to build a \"container\", think of it like a computer within a computer, that can be distributed to all\n",
    "- Imagine a world where bioinformaticians allow folks to run there code with one command\n",
    "  - singularity makes this possible!\n",
    "- Has someone published a docker container you need to run? Singularity makes it possible!\n",
    "- Want to great a uniform image for your research group, to ensure everyone is using the same computing environment?\n",
    "  - Singularity makes this possible!"
   ]
  }
 ],
 "metadata": {
  "celltoolbar": "Slideshow",
  "kernelspec": {
   "display_name": "base-conda",
   "language": "python",
   "name": "base-conda"
  },
  "language_info": {
   "codemirror_mode": {
    "name": "ipython",
    "version": 3
   },
   "file_extension": ".py",
   "mimetype": "text/x-python",
   "name": "python",
   "nbconvert_exporter": "python",
   "pygments_lexer": "ipython3",
   "version": "3.7.3"
  },
  "toc": {
   "base_numbering": 1,
   "nav_menu": {},
   "number_sections": false,
   "sideBar": true,
   "skip_h1_title": false,
   "title_cell": "Table of Contents",
   "title_sidebar": "Contents",
   "toc_cell": false,
   "toc_position": {
    "height": "calc(100% - 180px)",
    "left": "10px",
    "top": "150px",
    "width": "282.8px"
   },
   "toc_section_display": true,
   "toc_window_display": false
  }
 },
 "nbformat": 4,
 "nbformat_minor": 4
}
